{
 "cells": [
  {
   "cell_type": "code",
   "execution_count": 1,
   "metadata": {
    "collapsed": true
   },
   "outputs": [],
   "source": [
    "import pandas as pd\n",
    "import numpy as np\n",
    "import plotly.graph_objects as go"
   ]
  },
  {
   "cell_type": "code",
   "execution_count": 2,
   "outputs": [],
   "source": [
    "data_temp = pd.read_table('data/stundenwerte_TU_05100_19410101_20211231_hist/produkt_tu_stunde_19410101_20211231_05100.txt', sep=';')\n",
    "data_temp = data_temp.drop('eor', axis=1)\n",
    "data_temp.MESS_DATUM = pd.to_datetime(data_temp.MESS_DATUM.astype(str), format='%Y%m%d%H')\n",
    "data_temp[data_temp == -999] = np.nan\n",
    "data_temp = data_temp[data_temp.MESS_DATUM >= pd.to_datetime('2018-01-01')]"
   ],
   "metadata": {
    "collapsed": false,
    "pycharm": {
     "name": "#%%\n"
    }
   }
  },
  {
   "cell_type": "code",
   "execution_count": 3,
   "outputs": [],
   "source": [
    "data_solar = pd.read_table('data/stundenwerte_ST_05100_row/produkt_st_stunde_19580101_20220531_05100.txt', sep=';')\n",
    "data_solar = data_solar.drop('eor', axis=1)\n",
    "data_solar.MESS_DATUM = pd.to_datetime(data_solar.MESS_DATUM.astype(str), format=('%Y%m%d%H:%M'))\n",
    "data_solar[data_solar == -999] = np.nan\n",
    "data_solar = data_solar[data_solar.MESS_DATUM >= pd.to_datetime('2018-01-01')]"
   ],
   "metadata": {
    "collapsed": false,
    "pycharm": {
     "name": "#%%\n"
    }
   }
  },
  {
   "cell_type": "code",
   "execution_count": null,
   "outputs": [],
   "source": [
    "data_solar.head()"
   ],
   "metadata": {
    "collapsed": false,
    "pycharm": {
     "name": "#%%\n",
     "is_executing": true
    }
   }
  },
  {
   "cell_type": "code",
   "execution_count": null,
   "outputs": [],
   "source": [
    "import plotly.express as px\n",
    "px.line(data_temp, x='MESS_DATUM', y='TT_TU')"
   ],
   "metadata": {
    "collapsed": false,
    "pycharm": {
     "name": "#%%\n",
     "is_executing": true
    }
   }
  },
  {
   "cell_type": "code",
   "execution_count": null,
   "outputs": [],
   "source": [
    "px.line(data_solar, x='MESS_DATUM', y='FG_LBERG')"
   ],
   "metadata": {
    "collapsed": false,
    "pycharm": {
     "name": "#%%\n",
     "is_executing": true
    }
   }
  },
  {
   "cell_type": "code",
   "execution_count": 12,
   "outputs": [],
   "source": [
    "kelvin = lambda x: x+273.5\n",
    "celsius = lambda x: x-273.5\n",
    "vorlauf_max = 40\n",
    "aussen_min = -15\n",
    "raum = 20\n",
    "ny = 0.5\n",
    "\n",
    "vorlauftemp = lambda t: - (vorlauf_max - 20) / (20-aussen_min) *t + vorlauf_max + aussen_min * (vorlauf_max - 20) / (20-aussen_min)\n",
    "eta = lambda x: np.maximum(0, np.minimum(10, ny * kelvin(vorlauftemp(x)) / (kelvin(vorlauftemp(x))-kelvin(x))))\n",
    "\n",
    "data_temp['eta_hp'] = eta(data_temp.TT_TU)\n",
    "data_temp['vorlauf_temp'] = vorlauftemp(data_temp.TT_TU)"
   ],
   "metadata": {
    "collapsed": false,
    "pycharm": {
     "name": "#%%\n"
    }
   }
  },
  {
   "cell_type": "code",
   "execution_count": null,
   "outputs": [],
   "source": [
    "import plotly.graph_objects as go\n",
    "from plotly.subplots import make_subplots\n",
    "\n",
    "fig = make_subplots(specs=[[{\"secondary_y\": True}]])\n",
    "fig.add_trace(go.Scatter(x = data_temp.MESS_DATUM, y=  data_temp.eta_hp, name = 'Wirkungsgrad'), secondary_y=False)\n",
    "fig.add_trace(go.Scatter(x = data_temp.MESS_DATUM, y=  data_temp.vorlauf_temp, name = 'Vorlauftemp'), secondary_y=True)\n",
    "fig.add_trace(go.Scatter(x = data_temp.MESS_DATUM, y = data_temp.TT_TU, name = 'Außentemp'), secondary_y=True)\n",
    "\n",
    "fig.show()"
   ],
   "metadata": {
    "collapsed": false,
    "pycharm": {
     "name": "#%%\n",
     "is_executing": true
    }
   }
  },
  {
   "cell_type": "markdown",
   "source": [
    "Berechnung von benötigter Energie (optimiert)\n",
    "\n",
    "Finde minimum -> Optimierungsproblem\n",
    "Beschränkungen:\n",
    "- Kapazität der Wärmepumpe (Wh ist Joule / s) -> wie viel Joule kann Maximal über Zeitraum \"erbracht / verarbeitet\" werden? -> vereinfachte Annahme: unendliche Kapazität (kann Wasser unendlich schnell auf gewünschte Temperatur bringen)\n",
    "- Wie viel Energie wird benötigt, um das Wasser warm zu halten (in abh. von sich ändernder Außentemperatur)\n",
    "- Wann sollte also am besten angefangen werden, das Wasser zu erhitzen, mit wie viel Watt?\n",
    "- Wie viel Wärmeenergie wird benötigt über den Lauf der Zeit? -> In Abh. von Vorlauftemperatur\n",
    "- Was ist die maximale Vorlauftemperatur über Zeitraum?\n",
    "- Was sind Lokale Minima in der Funktion? -> nur bis zum nächsten Maxima schauen"
   ],
   "metadata": {
    "collapsed": false
   }
  },
  {
   "cell_type": "code",
   "execution_count": 18,
   "outputs": [],
   "source": [
    "timeframe_h = 24 #hours\n",
    "timeframe_s = timeframe_h * 3600 #seconds\n"
   ],
   "metadata": {
    "collapsed": false,
    "pycharm": {
     "name": "#%%\n"
    }
   }
  },
  {
   "cell_type": "code",
   "execution_count": 26,
   "outputs": [],
   "source": [
    "#get local minima and maxima in function\n",
    "from scipy.signal import argrelextrema\n",
    "\n",
    "check_interval = 18\n",
    "data_temp['local_min'] = data_temp.iloc[argrelextrema(data_temp.TT_TU.values, np.less_equal, order=check_interval)[0]]['TT_TU']\n",
    "data_temp['local_max'] = data_temp.iloc[argrelextrema(data_temp.TT_TU.values, np.greater_equal, order=check_interval)[0]]['TT_TU']\n",
    "data_temp['local_max_vorlauf'] = data_temp.iloc[argrelextrema(data_temp.vorlauf_temp.values, np.greater_equal, order=check_interval)[0]]['vorlauf_temp']"
   ],
   "metadata": {
    "collapsed": false,
    "pycharm": {
     "name": "#%%\n"
    }
   }
  },
  {
   "cell_type": "code",
   "execution_count": null,
   "outputs": [],
   "source": [
    "fig = make_subplots(specs=[[{\"secondary_y\": True}]])\n",
    "\n",
    "fig.add_trace(go.Scatter(x = data_temp.MESS_DATUM, y = data_temp.TT_TU), secondary_y = False)\n",
    "fig.add_trace(go.Scatter(x = data_temp.MESS_DATUM, y = data_temp.local_min, mode='markers'), secondary_y = False)\n",
    "fig.add_trace(go.Scatter(x = data_temp.MESS_DATUM, y = data_temp.local_max, mode='markers'), secondary_y = False)\n",
    "fig.add_trace(go.Scatter(x = data_temp.MESS_DATUM, y = data_temp.local_max_vorlauf, mode='markers'), secondary_y= True)\n",
    "fig.add_trace(go.Scatter(x = data_temp.MESS_DATUM, y = data_temp.vorlauf_temp, mode='lines'), secondary_y= True)\n",
    "fig.show()"
   ],
   "metadata": {
    "collapsed": false,
    "pycharm": {
     "name": "#%%\n",
     "is_executing": true
    }
   }
  },
  {
   "cell_type": "code",
   "execution_count": 97,
   "outputs": [],
   "source": [
    "#take Newton cooling data\n",
    "\n",
    "#20 and 60 after some DIN-Norms\n",
    "t_env = 20 + 273.15\n",
    "t_0 = 60 + 273.15\n",
    "#coef_h = 0.000625\n",
    "\n",
    "#specifications of water storage (taken from real example)\n",
    "hp_power = 72 #Watts\n",
    "h2o_energy = 4200 #Joule / (kilogram * Kelvin)\n",
    "hp_volume = 252 #Liter = kilogram\n",
    "\n",
    "\n",
    "def newton_cooling(t):\n",
    "    return t_env + (t_0 - t_env) * np.exp(-coef_h * t) # = temperature at time t\n",
    "\n",
    "def newton_cooling_diff(t):\n",
    "    return coef_h * (t_env - newton_cooling(t)) # = temperature loss rate at time t\n",
    "\n",
    "def newton_cooling_t_0(temp_t, t=7*3600):\n",
    "    return (temp_t - t_env) * np.exp(coef_h * t) + t_env #returns t_0 for fix temperature after time t\n",
    "\n",
    "def newton_cooling_t(temp_t):\n",
    "    return -np.log((temp_t - t_env) / (t_0 - t_env)) / coef_h #returns how much time it takes for t_0 to cool down to wished temperature\n",
    "\n",
    "def hp_power_temp(temp):\n",
    "    return  -h2o_energy * hp_volume * newton_cooling_diff(newton_cooling_t(temp))#returns how much power in Watt is needed to keep temperature at temp level\n",
    "\n",
    "def get_d_t():\n",
    "    return hp_power / (h2o_energy * hp_volume)\n",
    "\n",
    "def get_coef_h(d_t):\n",
    "    return d_t / np.abs(t_env - t_0)\n",
    "\n",
    "\n",
    "d_t = get_d_t()\n",
    "coef_h = get_coef_h(d_t)"
   ],
   "metadata": {
    "collapsed": false,
    "pycharm": {
     "name": "#%%\n"
    }
   }
  },
  {
   "cell_type": "code",
   "execution_count": 92,
   "outputs": [],
   "source": [
    "from scipy.integrate import trapz\n",
    "\n",
    "integral = lambda x, y: trapz(y, x)\n",
    "integral_avg = lambda x, y: integral(x, y) / (x.shape[0] - 1)\n",
    "\n",
    "\n",
    "overheat = lambda time, vorlauftemp, eta_t_0: (newton_cooling_t_0(kelvin(vorlauftemp), t = time*3600) - 273.15 - vorlauftemp) * h2o_energy * hp_volume / eta_t_0\n",
    "keepheat = lambda time, vorlauftemp, eta_avg: hp_power_temp(kelvin(vorlauftemp))*3600*time / eta_avg"
   ],
   "metadata": {
    "collapsed": false,
    "pycharm": {
     "name": "#%%\n"
    }
   }
  },
  {
   "cell_type": "code",
   "execution_count": 76,
   "outputs": [],
   "source": [
    "exmpl = data_temp[(data_temp.MESS_DATUM >= pd.to_datetime('2021-02-12 13:00:00')) & (data_temp.MESS_DATUM <= pd.to_datetime('2021-02-13 07:00:00'))].reset_index(drop=True)\n",
    "ex_x = exmpl.index\n",
    "ex_y = exmpl.eta_hp\n",
    "int_avg = integral_avg(ex_x, ex_y)"
   ],
   "metadata": {
    "collapsed": false,
    "pycharm": {
     "name": "#%%\n"
    }
   }
  },
  {
   "cell_type": "code",
   "execution_count": null,
   "outputs": [],
   "source": [
    "exmpl"
   ],
   "metadata": {
    "collapsed": false,
    "pycharm": {
     "name": "#%%\n",
     "is_executing": true
    }
   }
  },
  {
   "cell_type": "code",
   "execution_count": null,
   "outputs": [],
   "source": [
    "overheat(18, exmpl.vorlauf_temp.values[-1], exmpl.eta_hp.values[0])"
   ],
   "metadata": {
    "collapsed": false,
    "pycharm": {
     "name": "#%%\n",
     "is_executing": true
    }
   }
  },
  {
   "cell_type": "code",
   "execution_count": null,
   "outputs": [],
   "source": [
    "keepheat(18, exmpl.vorlauf_temp.values[-1], int_avg)"
   ],
   "metadata": {
    "collapsed": false,
    "pycharm": {
     "name": "#%%\n"
    }
   }
  }
 ],
 "metadata": {
  "kernelspec": {
   "display_name": "Python 3",
   "language": "python",
   "name": "python3"
  },
  "language_info": {
   "codemirror_mode": {
    "name": "ipython",
    "version": 2
   },
   "file_extension": ".py",
   "mimetype": "text/x-python",
   "name": "python",
   "nbconvert_exporter": "python",
   "pygments_lexer": "ipython2",
   "version": "2.7.6"
  }
 },
 "nbformat": 4,
 "nbformat_minor": 0
}