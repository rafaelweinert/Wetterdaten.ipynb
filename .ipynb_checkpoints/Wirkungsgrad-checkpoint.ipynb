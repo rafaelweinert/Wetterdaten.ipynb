{
 "cells": [
  {
   "cell_type": "code",
   "execution_count": 39,
   "metadata": {
    "pycharm": {
     "name": "#%%\n"
    }
   },
   "outputs": [],
   "source": [
    "import matplotlib.pyplot as plt\n",
    "from mpl_toolkits.mplot3d import Axes3D\n",
    "import numpy as np\n",
    "\n",
    "zu = np.arange(-20, 35, 0.1) +273.15\n",
    "ab = np.arange(0, 55, 0.1) +273.15\n",
    "\n",
    "ZU, AB = np.meshgrid(zu, ab)\n",
    "eta = AB / (AB - ZU)\n",
    "eta_real = np.maximum(0, eta)\n",
    "eta_real[eta_real == 0] = np.nan\n",
    "eta_real[eta_real >= 30] = np.nan"
   ]
  },
  {
   "cell_type": "code",
   "execution_count": 40,
   "metadata": {
    "pycharm": {
     "name": "#%%\n"
    }
   },
   "outputs": [],
   "source": [
    "import plotly.graph_objects as go\n",
    "\n",
    "import pandas as pd\n",
    "\n",
    "# Read data from a csv\n",
    "\n",
    "fig = go.Figure(data=[go.Surface(x = ZU-273.15, y = AB-273.15, z=eta_real)])\n",
    "\n",
    "fig.update_layout(title='Max efficiency heat pump', autosize=True,\n",
    "                  width=1500, height=1000,\n",
    "                  margin=dict(l=65, r=50, b=65, t=90))\n",
    "\n",
    "fig.write_html('Heat Pump' + 'plot.html', auto_open=True)"
   ]
  },
  {
   "cell_type": "code",
   "execution_count": null,
   "metadata": {
    "pycharm": {
     "name": "#%%\n"
    }
   },
   "outputs": [],
   "source": []
  }
 ],
 "metadata": {
  "kernelspec": {
   "display_name": "Python 3",
   "language": "python",
   "name": "python3"
  },
  "language_info": {
   "codemirror_mode": {
    "name": "ipython",
    "version": 3
   },
   "file_extension": ".py",
   "mimetype": "text/x-python",
   "name": "python",
   "nbconvert_exporter": "python",
   "pygments_lexer": "ipython3",
   "version": "3.8.5"
  }
 },
 "nbformat": 4,
 "nbformat_minor": 1
}
